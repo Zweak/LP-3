{
  "cells": [
    {
      "cell_type": "markdown",
      "id": "35d698d5",
      "metadata": {
        "id": "35d698d5"
      },
      "source": [
        "# Implement K-Means clustering/ hierarchical clustering on sales_data_sample.csv dataset. Determine the number of clusters using the elbow method."
      ]
    },
    {
      "cell_type": "code",
      "execution_count": null,
      "id": "80184eed",
      "metadata": {
        "id": "80184eed"
      },
      "outputs": [],
      "source": [
        "import pandas as pd\n",
        "import numpy as np\n",
        "import seaborn as sns\n",
        "import matplotlib.pyplot as plt\n",
        "#Importing the required libraries."
      ]
    },
    {
      "cell_type": "code",
      "execution_count": null,
      "id": "de73331b",
      "metadata": {
        "id": "de73331b"
      },
      "outputs": [],
      "source": [
        "from sklearn.cluster import KMeans,k_means #For clustering"
      ]
    },
    {
      "cell_type": "code",
      "execution_count": null,
      "id": "a65f429f",
      "metadata": {
        "id": "a65f429f"
      },
      "outputs": [],
      "source": [
        "df = pd.read_csv(\"E:\\\\dataset\\\\sales_data_sample.csv\") #Loading the dataset."
      ]
    },
    {
      "cell_type": "code",
      "execution_count": null,
      "id": "7ae133f2",
      "metadata": {
        "id": "7ae133f2",
        "outputId": "c98faeda-e14b-45ae-93a5-25ecca6df41d"
      },
      "outputs": [
        {
          "data": {
            "text/html": [
              "<div>\n",
              "<style scoped>\n",
              "    .dataframe tbody tr th:only-of-type {\n",
              "        vertical-align: middle;\n",
              "    }\n",
              "\n",
              "    .dataframe tbody tr th {\n",
              "        vertical-align: top;\n",
              "    }\n",
              "\n",
              "    .dataframe thead th {\n",
              "        text-align: right;\n",
              "    }\n",
              "</style>\n",
              "<table border=\"1\" class=\"dataframe\">\n",
              "  <thead>\n",
              "    <tr style=\"text-align: right;\">\n",
              "      <th></th>\n",
              "      <th>ORDERNUMBER</th>\n",
              "      <th>QUANTITYORDERED</th>\n",
              "      <th>PRICEEACH</th>\n",
              "      <th>ORDERLINENUMBER</th>\n",
              "      <th>SALES</th>\n",
              "      <th>ORDERDATE</th>\n",
              "      <th>STATUS</th>\n",
              "      <th>QTR_ID</th>\n",
              "      <th>MONTH_ID</th>\n",
              "      <th>YEAR_ID</th>\n",
              "      <th>...</th>\n",
              "      <th>ADDRESSLINE1</th>\n",
              "      <th>ADDRESSLINE2</th>\n",
              "      <th>CITY</th>\n",
              "      <th>STATE</th>\n",
              "      <th>POSTALCODE</th>\n",
              "      <th>COUNTRY</th>\n",
              "      <th>TERRITORY</th>\n",
              "      <th>CONTACTLASTNAME</th>\n",
              "      <th>CONTACTFIRSTNAME</th>\n",
              "      <th>DEALSIZE</th>\n",
              "    </tr>\n",
              "  </thead>\n",
              "  <tbody>\n",
              "    <tr>\n",
              "      <th>0</th>\n",
              "      <td>10107</td>\n",
              "      <td>30</td>\n",
              "      <td>95.70</td>\n",
              "      <td>2</td>\n",
              "      <td>2871.00</td>\n",
              "      <td>2/24/2003 0:00</td>\n",
              "      <td>Shipped</td>\n",
              "      <td>1</td>\n",
              "      <td>2</td>\n",
              "      <td>2003</td>\n",
              "      <td>...</td>\n",
              "      <td>897 Long Airport Avenue</td>\n",
              "      <td>NaN</td>\n",
              "      <td>NYC</td>\n",
              "      <td>NY</td>\n",
              "      <td>10022</td>\n",
              "      <td>USA</td>\n",
              "      <td>NaN</td>\n",
              "      <td>Yu</td>\n",
              "      <td>Kwai</td>\n",
              "      <td>Small</td>\n",
              "    </tr>\n",
              "    <tr>\n",
              "      <th>1</th>\n",
              "      <td>10121</td>\n",
              "      <td>34</td>\n",
              "      <td>81.35</td>\n",
              "      <td>5</td>\n",
              "      <td>2765.90</td>\n",
              "      <td>5/7/2003 0:00</td>\n",
              "      <td>Shipped</td>\n",
              "      <td>2</td>\n",
              "      <td>5</td>\n",
              "      <td>2003</td>\n",
              "      <td>...</td>\n",
              "      <td>59 rue de l'Abbaye</td>\n",
              "      <td>NaN</td>\n",
              "      <td>Reims</td>\n",
              "      <td>NaN</td>\n",
              "      <td>51100</td>\n",
              "      <td>France</td>\n",
              "      <td>EMEA</td>\n",
              "      <td>Henriot</td>\n",
              "      <td>Paul</td>\n",
              "      <td>Small</td>\n",
              "    </tr>\n",
              "    <tr>\n",
              "      <th>2</th>\n",
              "      <td>10134</td>\n",
              "      <td>41</td>\n",
              "      <td>94.74</td>\n",
              "      <td>2</td>\n",
              "      <td>3884.34</td>\n",
              "      <td>7/1/2003 0:00</td>\n",
              "      <td>Shipped</td>\n",
              "      <td>3</td>\n",
              "      <td>7</td>\n",
              "      <td>2003</td>\n",
              "      <td>...</td>\n",
              "      <td>27 rue du Colonel Pierre Avia</td>\n",
              "      <td>NaN</td>\n",
              "      <td>Paris</td>\n",
              "      <td>NaN</td>\n",
              "      <td>75508</td>\n",
              "      <td>France</td>\n",
              "      <td>EMEA</td>\n",
              "      <td>Da Cunha</td>\n",
              "      <td>Daniel</td>\n",
              "      <td>Medium</td>\n",
              "    </tr>\n",
              "    <tr>\n",
              "      <th>3</th>\n",
              "      <td>10145</td>\n",
              "      <td>45</td>\n",
              "      <td>83.26</td>\n",
              "      <td>6</td>\n",
              "      <td>3746.70</td>\n",
              "      <td>8/25/2003 0:00</td>\n",
              "      <td>Shipped</td>\n",
              "      <td>3</td>\n",
              "      <td>8</td>\n",
              "      <td>2003</td>\n",
              "      <td>...</td>\n",
              "      <td>78934 Hillside Dr.</td>\n",
              "      <td>NaN</td>\n",
              "      <td>Pasadena</td>\n",
              "      <td>CA</td>\n",
              "      <td>90003</td>\n",
              "      <td>USA</td>\n",
              "      <td>NaN</td>\n",
              "      <td>Young</td>\n",
              "      <td>Julie</td>\n",
              "      <td>Medium</td>\n",
              "    </tr>\n",
              "    <tr>\n",
              "      <th>4</th>\n",
              "      <td>10159</td>\n",
              "      <td>49</td>\n",
              "      <td>100.00</td>\n",
              "      <td>14</td>\n",
              "      <td>5205.27</td>\n",
              "      <td>10/10/2003 0:00</td>\n",
              "      <td>Shipped</td>\n",
              "      <td>4</td>\n",
              "      <td>10</td>\n",
              "      <td>2003</td>\n",
              "      <td>...</td>\n",
              "      <td>7734 Strong St.</td>\n",
              "      <td>NaN</td>\n",
              "      <td>San Francisco</td>\n",
              "      <td>CA</td>\n",
              "      <td>NaN</td>\n",
              "      <td>USA</td>\n",
              "      <td>NaN</td>\n",
              "      <td>Brown</td>\n",
              "      <td>Julie</td>\n",
              "      <td>Medium</td>\n",
              "    </tr>\n",
              "  </tbody>\n",
              "</table>\n",
              "<p>5 rows × 25 columns</p>\n",
              "</div>"
            ],
            "text/plain": [
              "   ORDERNUMBER  QUANTITYORDERED  PRICEEACH  ORDERLINENUMBER    SALES  \\\n",
              "0        10107               30      95.70                2  2871.00   \n",
              "1        10121               34      81.35                5  2765.90   \n",
              "2        10134               41      94.74                2  3884.34   \n",
              "3        10145               45      83.26                6  3746.70   \n",
              "4        10159               49     100.00               14  5205.27   \n",
              "\n",
              "         ORDERDATE   STATUS  QTR_ID  MONTH_ID  YEAR_ID  ...  \\\n",
              "0   2/24/2003 0:00  Shipped       1         2     2003  ...   \n",
              "1    5/7/2003 0:00  Shipped       2         5     2003  ...   \n",
              "2    7/1/2003 0:00  Shipped       3         7     2003  ...   \n",
              "3   8/25/2003 0:00  Shipped       3         8     2003  ...   \n",
              "4  10/10/2003 0:00  Shipped       4        10     2003  ...   \n",
              "\n",
              "                    ADDRESSLINE1  ADDRESSLINE2           CITY STATE  \\\n",
              "0        897 Long Airport Avenue           NaN            NYC    NY   \n",
              "1             59 rue de l'Abbaye           NaN          Reims   NaN   \n",
              "2  27 rue du Colonel Pierre Avia           NaN          Paris   NaN   \n",
              "3             78934 Hillside Dr.           NaN       Pasadena    CA   \n",
              "4                7734 Strong St.           NaN  San Francisco    CA   \n",
              "\n",
              "  POSTALCODE COUNTRY TERRITORY CONTACTLASTNAME CONTACTFIRSTNAME DEALSIZE  \n",
              "0      10022     USA       NaN              Yu             Kwai    Small  \n",
              "1      51100  France      EMEA         Henriot             Paul    Small  \n",
              "2      75508  France      EMEA        Da Cunha           Daniel   Medium  \n",
              "3      90003     USA       NaN           Young            Julie   Medium  \n",
              "4        NaN     USA       NaN           Brown            Julie   Medium  \n",
              "\n",
              "[5 rows x 25 columns]"
            ]
          },
          "execution_count": 17,
          "metadata": {},
          "output_type": "execute_result"
        }
      ],
      "source": [
        "df.head()"
      ]
    },
    {
      "cell_type": "code",
      "execution_count": null,
      "id": "1d94f204",
      "metadata": {
        "id": "1d94f204",
        "outputId": "dd1f480b-2ef1-4c63-cfc9-243401134776"
      },
      "outputs": [
        {
          "data": {
            "text/plain": [
              "(2823, 25)"
            ]
          },
          "execution_count": 18,
          "metadata": {},
          "output_type": "execute_result"
        }
      ],
      "source": [
        "df.shape "
      ]
    },
    {
      "cell_type": "code",
      "execution_count": null,
      "id": "889cccdc",
      "metadata": {
        "id": "889cccdc",
        "outputId": "260e6538-89bc-449d-85f4-ada07e4c7b3a"
      },
      "outputs": [
        {
          "data": {
            "text/html": [
              "<div>\n",
              "<style scoped>\n",
              "    .dataframe tbody tr th:only-of-type {\n",
              "        vertical-align: middle;\n",
              "    }\n",
              "\n",
              "    .dataframe tbody tr th {\n",
              "        vertical-align: top;\n",
              "    }\n",
              "\n",
              "    .dataframe thead th {\n",
              "        text-align: right;\n",
              "    }\n",
              "</style>\n",
              "<table border=\"1\" class=\"dataframe\">\n",
              "  <thead>\n",
              "    <tr style=\"text-align: right;\">\n",
              "      <th></th>\n",
              "      <th>ORDERNUMBER</th>\n",
              "      <th>QUANTITYORDERED</th>\n",
              "      <th>PRICEEACH</th>\n",
              "      <th>ORDERLINENUMBER</th>\n",
              "      <th>SALES</th>\n",
              "      <th>QTR_ID</th>\n",
              "      <th>MONTH_ID</th>\n",
              "      <th>YEAR_ID</th>\n",
              "      <th>MSRP</th>\n",
              "    </tr>\n",
              "  </thead>\n",
              "  <tbody>\n",
              "    <tr>\n",
              "      <th>count</th>\n",
              "      <td>2823.000000</td>\n",
              "      <td>2823.000000</td>\n",
              "      <td>2823.000000</td>\n",
              "      <td>2823.000000</td>\n",
              "      <td>2823.000000</td>\n",
              "      <td>2823.000000</td>\n",
              "      <td>2823.000000</td>\n",
              "      <td>2823.00000</td>\n",
              "      <td>2823.000000</td>\n",
              "    </tr>\n",
              "    <tr>\n",
              "      <th>mean</th>\n",
              "      <td>10258.725115</td>\n",
              "      <td>35.092809</td>\n",
              "      <td>83.658544</td>\n",
              "      <td>6.466171</td>\n",
              "      <td>3553.889072</td>\n",
              "      <td>2.717676</td>\n",
              "      <td>7.092455</td>\n",
              "      <td>2003.81509</td>\n",
              "      <td>100.715551</td>\n",
              "    </tr>\n",
              "    <tr>\n",
              "      <th>std</th>\n",
              "      <td>92.085478</td>\n",
              "      <td>9.741443</td>\n",
              "      <td>20.174277</td>\n",
              "      <td>4.225841</td>\n",
              "      <td>1841.865106</td>\n",
              "      <td>1.203878</td>\n",
              "      <td>3.656633</td>\n",
              "      <td>0.69967</td>\n",
              "      <td>40.187912</td>\n",
              "    </tr>\n",
              "    <tr>\n",
              "      <th>min</th>\n",
              "      <td>10100.000000</td>\n",
              "      <td>6.000000</td>\n",
              "      <td>26.880000</td>\n",
              "      <td>1.000000</td>\n",
              "      <td>482.130000</td>\n",
              "      <td>1.000000</td>\n",
              "      <td>1.000000</td>\n",
              "      <td>2003.00000</td>\n",
              "      <td>33.000000</td>\n",
              "    </tr>\n",
              "    <tr>\n",
              "      <th>25%</th>\n",
              "      <td>10180.000000</td>\n",
              "      <td>27.000000</td>\n",
              "      <td>68.860000</td>\n",
              "      <td>3.000000</td>\n",
              "      <td>2203.430000</td>\n",
              "      <td>2.000000</td>\n",
              "      <td>4.000000</td>\n",
              "      <td>2003.00000</td>\n",
              "      <td>68.000000</td>\n",
              "    </tr>\n",
              "    <tr>\n",
              "      <th>50%</th>\n",
              "      <td>10262.000000</td>\n",
              "      <td>35.000000</td>\n",
              "      <td>95.700000</td>\n",
              "      <td>6.000000</td>\n",
              "      <td>3184.800000</td>\n",
              "      <td>3.000000</td>\n",
              "      <td>8.000000</td>\n",
              "      <td>2004.00000</td>\n",
              "      <td>99.000000</td>\n",
              "    </tr>\n",
              "    <tr>\n",
              "      <th>75%</th>\n",
              "      <td>10333.500000</td>\n",
              "      <td>43.000000</td>\n",
              "      <td>100.000000</td>\n",
              "      <td>9.000000</td>\n",
              "      <td>4508.000000</td>\n",
              "      <td>4.000000</td>\n",
              "      <td>11.000000</td>\n",
              "      <td>2004.00000</td>\n",
              "      <td>124.000000</td>\n",
              "    </tr>\n",
              "    <tr>\n",
              "      <th>max</th>\n",
              "      <td>10425.000000</td>\n",
              "      <td>97.000000</td>\n",
              "      <td>100.000000</td>\n",
              "      <td>18.000000</td>\n",
              "      <td>14082.800000</td>\n",
              "      <td>4.000000</td>\n",
              "      <td>12.000000</td>\n",
              "      <td>2005.00000</td>\n",
              "      <td>214.000000</td>\n",
              "    </tr>\n",
              "  </tbody>\n",
              "</table>\n",
              "</div>"
            ],
            "text/plain": [
              "        ORDERNUMBER  QUANTITYORDERED    PRICEEACH  ORDERLINENUMBER  \\\n",
              "count   2823.000000      2823.000000  2823.000000      2823.000000   \n",
              "mean   10258.725115        35.092809    83.658544         6.466171   \n",
              "std       92.085478         9.741443    20.174277         4.225841   \n",
              "min    10100.000000         6.000000    26.880000         1.000000   \n",
              "25%    10180.000000        27.000000    68.860000         3.000000   \n",
              "50%    10262.000000        35.000000    95.700000         6.000000   \n",
              "75%    10333.500000        43.000000   100.000000         9.000000   \n",
              "max    10425.000000        97.000000   100.000000        18.000000   \n",
              "\n",
              "              SALES       QTR_ID     MONTH_ID     YEAR_ID         MSRP  \n",
              "count   2823.000000  2823.000000  2823.000000  2823.00000  2823.000000  \n",
              "mean    3553.889072     2.717676     7.092455  2003.81509   100.715551  \n",
              "std     1841.865106     1.203878     3.656633     0.69967    40.187912  \n",
              "min      482.130000     1.000000     1.000000  2003.00000    33.000000  \n",
              "25%     2203.430000     2.000000     4.000000  2003.00000    68.000000  \n",
              "50%     3184.800000     3.000000     8.000000  2004.00000    99.000000  \n",
              "75%     4508.000000     4.000000    11.000000  2004.00000   124.000000  \n",
              "max    14082.800000     4.000000    12.000000  2005.00000   214.000000  "
            ]
          },
          "execution_count": 19,
          "metadata": {},
          "output_type": "execute_result"
        }
      ],
      "source": [
        "df.describe()"
      ]
    },
    {
      "cell_type": "code",
      "execution_count": null,
      "id": "d8a62c8c",
      "metadata": {
        "id": "d8a62c8c",
        "outputId": "d2c6d0b5-ebdf-4cb8-d5d5-5e287de361f7"
      },
      "outputs": [
        {
          "name": "stdout",
          "output_type": "stream",
          "text": [
            "<class 'pandas.core.frame.DataFrame'>\n",
            "RangeIndex: 2823 entries, 0 to 2822\n",
            "Data columns (total 25 columns):\n",
            " #   Column            Non-Null Count  Dtype  \n",
            "---  ------            --------------  -----  \n",
            " 0   ORDERNUMBER       2823 non-null   int64  \n",
            " 1   QUANTITYORDERED   2823 non-null   int64  \n",
            " 2   PRICEEACH         2823 non-null   float64\n",
            " 3   ORDERLINENUMBER   2823 non-null   int64  \n",
            " 4   SALES             2823 non-null   float64\n",
            " 5   ORDERDATE         2823 non-null   object \n",
            " 6   STATUS            2823 non-null   object \n",
            " 7   QTR_ID            2823 non-null   int64  \n",
            " 8   MONTH_ID          2823 non-null   int64  \n",
            " 9   YEAR_ID           2823 non-null   int64  \n",
            " 10  PRODUCTLINE       2823 non-null   object \n",
            " 11  MSRP              2823 non-null   int64  \n",
            " 12  PRODUCTCODE       2823 non-null   object \n",
            " 13  CUSTOMERNAME      2823 non-null   object \n",
            " 14  PHONE             2823 non-null   object \n",
            " 15  ADDRESSLINE1      2823 non-null   object \n",
            " 16  ADDRESSLINE2      302 non-null    object \n",
            " 17  CITY              2823 non-null   object \n",
            " 18  STATE             1337 non-null   object \n",
            " 19  POSTALCODE        2747 non-null   object \n",
            " 20  COUNTRY           2823 non-null   object \n",
            " 21  TERRITORY         1749 non-null   object \n",
            " 22  CONTACTLASTNAME   2823 non-null   object \n",
            " 23  CONTACTFIRSTNAME  2823 non-null   object \n",
            " 24  DEALSIZE          2823 non-null   object \n",
            "dtypes: float64(2), int64(7), object(16)\n",
            "memory usage: 551.5+ KB\n"
          ]
        }
      ],
      "source": [
        "df.info()"
      ]
    },
    {
      "cell_type": "code",
      "execution_count": null,
      "id": "44494d1b",
      "metadata": {
        "id": "44494d1b",
        "outputId": "98bc2fcb-a993-44b5-85cd-f9216241ed06"
      },
      "outputs": [
        {
          "data": {
            "text/plain": [
              "ORDERNUMBER            0\n",
              "QUANTITYORDERED        0\n",
              "PRICEEACH              0\n",
              "ORDERLINENUMBER        0\n",
              "SALES                  0\n",
              "ORDERDATE              0\n",
              "STATUS                 0\n",
              "QTR_ID                 0\n",
              "MONTH_ID               0\n",
              "YEAR_ID                0\n",
              "PRODUCTLINE            0\n",
              "MSRP                   0\n",
              "PRODUCTCODE            0\n",
              "CUSTOMERNAME           0\n",
              "PHONE                  0\n",
              "ADDRESSLINE1           0\n",
              "ADDRESSLINE2        2521\n",
              "CITY                   0\n",
              "STATE               1486\n",
              "POSTALCODE            76\n",
              "COUNTRY                0\n",
              "TERRITORY           1074\n",
              "CONTACTLASTNAME        0\n",
              "CONTACTFIRSTNAME       0\n",
              "DEALSIZE               0\n",
              "dtype: int64"
            ]
          },
          "execution_count": 21,
          "metadata": {},
          "output_type": "execute_result"
        }
      ],
      "source": [
        "df.isnull().sum()"
      ]
    },
    {
      "cell_type": "code",
      "execution_count": null,
      "id": "33abc793",
      "metadata": {
        "id": "33abc793",
        "outputId": "79428c01-6f92-4996-ec94-74281717aecb"
      },
      "outputs": [
        {
          "data": {
            "text/plain": [
              "ORDERNUMBER           int64\n",
              "QUANTITYORDERED       int64\n",
              "PRICEEACH           float64\n",
              "ORDERLINENUMBER       int64\n",
              "SALES               float64\n",
              "ORDERDATE            object\n",
              "STATUS               object\n",
              "QTR_ID                int64\n",
              "MONTH_ID              int64\n",
              "YEAR_ID               int64\n",
              "PRODUCTLINE          object\n",
              "MSRP                  int64\n",
              "PRODUCTCODE          object\n",
              "CUSTOMERNAME         object\n",
              "PHONE                object\n",
              "ADDRESSLINE1         object\n",
              "ADDRESSLINE2         object\n",
              "CITY                 object\n",
              "STATE                object\n",
              "POSTALCODE           object\n",
              "COUNTRY              object\n",
              "TERRITORY            object\n",
              "CONTACTLASTNAME      object\n",
              "CONTACTFIRSTNAME     object\n",
              "DEALSIZE             object\n",
              "dtype: object"
            ]
          },
          "execution_count": 22,
          "metadata": {},
          "output_type": "execute_result"
        }
      ],
      "source": [
        "df.dtypes"
      ]
    },
    {
      "cell_type": "code",
      "execution_count": null,
      "id": "89399d76",
      "metadata": {
        "id": "89399d76"
      },
      "outputs": [],
      "source": [
        "df_drop  = ['ADDRESSLINE1', 'ADDRESSLINE2', 'STATUS','POSTALCODE', 'CITY', 'TERRITORY', 'PHONE', 'STATE', 'CONTACTFIRSTNAME', 'CONTACTLASTNAME', 'CUSTOMERNAME', 'ORDERNUMBER']\n"
      ]
    },
    {
      "cell_type": "code",
      "execution_count": null,
      "id": "a83f2521",
      "metadata": {
        "id": "a83f2521"
      },
      "outputs": [],
      "source": [
        "df = df.drop(df_drop, axis=1) #Dropping the categorical uneccessary columns along with columns having null values. Can't fill the null values are there are alot of null values."
      ]
    },
    {
      "cell_type": "code",
      "execution_count": null,
      "id": "c832761d",
      "metadata": {
        "id": "c832761d",
        "outputId": "c4928504-9d37-42a5-92e2-03df3fe55499"
      },
      "outputs": [
        {
          "data": {
            "text/plain": [
              "QUANTITYORDERED    0\n",
              "PRICEEACH          0\n",
              "ORDERLINENUMBER    0\n",
              "SALES              0\n",
              "ORDERDATE          0\n",
              "QTR_ID             0\n",
              "MONTH_ID           0\n",
              "YEAR_ID            0\n",
              "PRODUCTLINE        0\n",
              "MSRP               0\n",
              "PRODUCTCODE        0\n",
              "COUNTRY            0\n",
              "DEALSIZE           0\n",
              "dtype: int64"
            ]
          },
          "execution_count": 25,
          "metadata": {},
          "output_type": "execute_result"
        }
      ],
      "source": [
        "df.isnull().sum()"
      ]
    },
    {
      "cell_type": "code",
      "execution_count": null,
      "id": "1ebb0a41",
      "metadata": {
        "id": "1ebb0a41",
        "outputId": "e27024ce-5380-4b0c-e3ca-2e83a01ce3c4"
      },
      "outputs": [
        {
          "data": {
            "text/plain": [
              "QUANTITYORDERED      int64\n",
              "PRICEEACH          float64\n",
              "ORDERLINENUMBER      int64\n",
              "SALES              float64\n",
              "ORDERDATE           object\n",
              "QTR_ID               int64\n",
              "MONTH_ID             int64\n",
              "YEAR_ID              int64\n",
              "PRODUCTLINE         object\n",
              "MSRP                 int64\n",
              "PRODUCTCODE         object\n",
              "COUNTRY             object\n",
              "DEALSIZE            object\n",
              "dtype: object"
            ]
          },
          "execution_count": 26,
          "metadata": {},
          "output_type": "execute_result"
        }
      ],
      "source": [
        "df.dtypes"
      ]
    },
    {
      "cell_type": "markdown",
      "id": "55d1e80c",
      "metadata": {
        "id": "55d1e80c"
      },
      "source": [
        "# Checking the categorical columns."
      ]
    },
    {
      "cell_type": "code",
      "execution_count": null,
      "id": "85f36a6c",
      "metadata": {
        "id": "85f36a6c",
        "outputId": "a4716442-4842-46f6-f610-a443d6e7f3e2"
      },
      "outputs": [
        {
          "data": {
            "text/plain": [
              "array(['USA', 'France', 'Norway', 'Australia', 'Finland', 'Austria', 'UK',\n",
              "       'Spain', 'Sweden', 'Singapore', 'Canada', 'Japan', 'Italy',\n",
              "       'Denmark', 'Belgium', 'Philippines', 'Germany', 'Switzerland',\n",
              "       'Ireland'], dtype=object)"
            ]
          },
          "execution_count": 27,
          "metadata": {},
          "output_type": "execute_result"
        }
      ],
      "source": [
        "df['COUNTRY'].unique()"
      ]
    },
    {
      "cell_type": "code",
      "execution_count": null,
      "id": "9335e232",
      "metadata": {
        "id": "9335e232",
        "outputId": "9a37434f-a1fa-4b6a-cd5c-e9a2fbd4828c"
      },
      "outputs": [
        {
          "data": {
            "text/plain": [
              "array(['Motorcycles', 'Classic Cars', 'Trucks and Buses', 'Vintage Cars',\n",
              "       'Planes', 'Ships', 'Trains'], dtype=object)"
            ]
          },
          "execution_count": 28,
          "metadata": {},
          "output_type": "execute_result"
        }
      ],
      "source": [
        "df['PRODUCTLINE'].unique()"
      ]
    },
    {
      "cell_type": "code",
      "execution_count": null,
      "id": "27f89fc9",
      "metadata": {
        "id": "27f89fc9",
        "outputId": "b203c66f-f2b1-4251-a297-84e39a1565e5"
      },
      "outputs": [
        {
          "data": {
            "text/plain": [
              "array(['Small', 'Medium', 'Large'], dtype=object)"
            ]
          },
          "execution_count": 29,
          "metadata": {},
          "output_type": "execute_result"
        }
      ],
      "source": [
        "df['DEALSIZE'].unique()"
      ]
    },
    {
      "cell_type": "code",
      "execution_count": null,
      "id": "4f55baf4",
      "metadata": {
        "id": "4f55baf4"
      },
      "outputs": [],
      "source": [
        "productline = pd.get_dummies(df['PRODUCTLINE']) #Converting the categorical columns. \n",
        "Dealsize = pd.get_dummies(df['DEALSIZE'])"
      ]
    },
    {
      "cell_type": "code",
      "execution_count": null,
      "id": "eac82c7f",
      "metadata": {
        "id": "eac82c7f"
      },
      "outputs": [],
      "source": [
        "df = pd.concat([df,productline,Dealsize], axis = 1)"
      ]
    },
    {
      "cell_type": "code",
      "execution_count": null,
      "id": "27d43975",
      "metadata": {
        "id": "27d43975"
      },
      "outputs": [],
      "source": [
        "df_drop  = ['COUNTRY','PRODUCTLINE','DEALSIZE'] #Dropping Country too as there are alot of countries. \n",
        "df = df.drop(df_drop, axis=1)"
      ]
    },
    {
      "cell_type": "code",
      "execution_count": null,
      "id": "a3ddfda0",
      "metadata": {
        "id": "a3ddfda0"
      },
      "outputs": [],
      "source": [
        "df['PRODUCTCODE'] = pd.Categorical(df['PRODUCTCODE']).codes #Converting the datatype."
      ]
    },
    {
      "cell_type": "code",
      "execution_count": null,
      "id": "2f1d0464",
      "metadata": {
        "id": "2f1d0464"
      },
      "outputs": [],
      "source": [
        "df.drop('ORDERDATE', axis=1, inplace=True) #Dropping the Orderdate as Month is already included."
      ]
    },
    {
      "cell_type": "code",
      "execution_count": null,
      "id": "745a6c77",
      "metadata": {
        "id": "745a6c77",
        "outputId": "c97b6b02-f141-40dd-ac1d-85ef852f1b12"
      },
      "outputs": [
        {
          "data": {
            "text/plain": [
              "QUANTITYORDERED       int64\n",
              "PRICEEACH           float64\n",
              "ORDERLINENUMBER       int64\n",
              "SALES               float64\n",
              "QTR_ID                int64\n",
              "MONTH_ID              int64\n",
              "YEAR_ID               int64\n",
              "MSRP                  int64\n",
              "PRODUCTCODE            int8\n",
              "Classic Cars          uint8\n",
              "Motorcycles           uint8\n",
              "Planes                uint8\n",
              "Ships                 uint8\n",
              "Trains                uint8\n",
              "Trucks and Buses      uint8\n",
              "Vintage Cars          uint8\n",
              "Large                 uint8\n",
              "Medium                uint8\n",
              "Small                 uint8\n",
              "dtype: object"
            ]
          },
          "execution_count": 35,
          "metadata": {},
          "output_type": "execute_result"
        }
      ],
      "source": [
        "df.dtypes #All the datatypes are converted into numeric"
      ]
    },
    {
      "cell_type": "code",
      "execution_count": null,
      "id": "2a4b9716",
      "metadata": {
        "id": "2a4b9716"
      },
      "outputs": [],
      "source": [
        "X_train = df.values #Returns a numpy array."
      ]
    },
    {
      "cell_type": "code",
      "execution_count": null,
      "id": "4d0bbcf6",
      "metadata": {
        "id": "4d0bbcf6",
        "outputId": "94b56b67-c29a-4e75-8e5b-97df5bcd91a4"
      },
      "outputs": [
        {
          "data": {
            "text/plain": [
              "(2823, 19)"
            ]
          },
          "execution_count": 37,
          "metadata": {},
          "output_type": "execute_result"
        }
      ],
      "source": [
        "X_train.shape"
      ]
    },
    {
      "cell_type": "code",
      "execution_count": null,
      "id": "411a5256",
      "metadata": {
        "id": "411a5256"
      },
      "outputs": [],
      "source": [
        "model = KMeans(n_clusters=3,random_state=2) #Number of cluster = 3\n",
        "model = model.fit(X_train) #Fitting the values to create a model.\n",
        "predictions = model.predict(X_train) #Predicting the cluster values (0,1,or 2)"
      ]
    },
    {
      "cell_type": "code",
      "execution_count": null,
      "id": "7935cc19",
      "metadata": {
        "id": "7935cc19"
      },
      "outputs": [],
      "source": [
        "unique,counts = np.unique(predictions,return_counts=True)"
      ]
    },
    {
      "cell_type": "code",
      "execution_count": null,
      "id": "8526e574",
      "metadata": {
        "id": "8526e574"
      },
      "outputs": [],
      "source": [
        "counts = counts.reshape(1,3)"
      ]
    },
    {
      "cell_type": "code",
      "execution_count": null,
      "id": "d23c54dc",
      "metadata": {
        "id": "d23c54dc"
      },
      "outputs": [],
      "source": [
        "counts_df = pd.DataFrame(counts,columns=['Cluster1','Cluster2','Cluster3'])"
      ]
    },
    {
      "cell_type": "code",
      "execution_count": null,
      "id": "ab98ade1",
      "metadata": {
        "id": "ab98ade1",
        "outputId": "d9a8b52f-1a57-4022-b082-31052e30bad9"
      },
      "outputs": [
        {
          "data": {
            "text/html": [
              "<div>\n",
              "<style scoped>\n",
              "    .dataframe tbody tr th:only-of-type {\n",
              "        vertical-align: middle;\n",
              "    }\n",
              "\n",
              "    .dataframe tbody tr th {\n",
              "        vertical-align: top;\n",
              "    }\n",
              "\n",
              "    .dataframe thead th {\n",
              "        text-align: right;\n",
              "    }\n",
              "</style>\n",
              "<table border=\"1\" class=\"dataframe\">\n",
              "  <thead>\n",
              "    <tr style=\"text-align: right;\">\n",
              "      <th></th>\n",
              "      <th>Cluster1</th>\n",
              "      <th>Cluster2</th>\n",
              "      <th>Cluster3</th>\n",
              "    </tr>\n",
              "  </thead>\n",
              "  <tbody>\n",
              "    <tr>\n",
              "      <th>0</th>\n",
              "      <td>1083</td>\n",
              "      <td>1367</td>\n",
              "      <td>373</td>\n",
              "    </tr>\n",
              "  </tbody>\n",
              "</table>\n",
              "</div>"
            ],
            "text/plain": [
              "   Cluster1  Cluster2  Cluster3\n",
              "0      1083      1367       373"
            ]
          },
          "execution_count": 42,
          "metadata": {},
          "output_type": "execute_result"
        }
      ],
      "source": [
        "counts_df.head()"
      ]
    },
    {
      "cell_type": "markdown",
      "id": "b685a670",
      "metadata": {
        "id": "b685a670"
      },
      "source": [
        "# Plotting the Elbow Plot to determine the number of clusters."
      ]
    },
    {
      "cell_type": "code",
      "execution_count": null,
      "id": "2210740f",
      "metadata": {
        "id": "2210740f"
      },
      "outputs": [],
      "source": [
        "distortions = [] # Within Cluster Sum of Squares from the centroid\n",
        "K = range(1,10)\n",
        "for k in K:\n",
        "    kmeanModel = KMeans(n_clusters=k)\n",
        "    kmeanModel.fit(df)\n",
        "    distortions.append(kmeanModel.inertia_)   #Appeding the intertia to the Distortions "
      ]
    },
    {
      "cell_type": "code",
      "execution_count": null,
      "id": "411412d5",
      "metadata": {
        "id": "411412d5",
        "outputId": "eb119688-f711-43aa-e80c-962876e3440e"
      },
      "outputs": [
        {
          "data": {
            "image/png": "[encoded data removed]",
            "text/plain": [
              "<Figure size 1152x576 with 1 Axes>"
            ]
          },
          "metadata": {
            "needs_background": "light"
          },
          "output_type": "display_data"
        }
      ],
      "source": [
        "plt.figure(figsize=(16,8))\n",
        "plt.plot(K, distortions, 'bx-')\n",
        "plt.xlabel('k')\n",
        "plt.ylabel('Distortion')\n",
        "plt.title('The Elbow Method showing the optimal k')\n",
        "plt.show()"
      ]
    },
    {
      "cell_type": "markdown",
      "id": "ee402a97",
      "metadata": {
        "id": "ee402a97"
      },
      "source": [
        "# As the number of k increases Inertia decreases.\n",
        "Observations: A Elbow can be observed at 3 and after that the curve decreases gradually."
      ]
    }
  ],
  "metadata": {
    "kernelspec": {
      "display_name": "Python 3 (ipykernel)",
      "language": "python",
      "name": "python3"
    },
    "language_info": {
      "codemirror_mode": {
        "name": "ipython",
        "version": 3
      },
      "file_extension": ".py",
      "mimetype": "text/x-python",
      "name": "python",
      "nbconvert_exporter": "python",
      "pygments_lexer": "ipython3",
      "version": "3.9.7"
    },
    "colab": {
      "provenance": []
    }
  },
  "nbformat": 4,
  "nbformat_minor": 5
}