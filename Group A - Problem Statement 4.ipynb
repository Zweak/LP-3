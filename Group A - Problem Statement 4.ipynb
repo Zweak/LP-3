{
 "cells": [
  {
   "cell_type": "code",
   "execution_count": 1,
   "id": "0a3c63ba",
   "metadata": {},
   "outputs": [
    {
     "name": "stdout",
     "output_type": "stream",
     "text": [
      "f -> 0\n",
      "c -> 100\n",
      "d -> 101\n",
      "a -> 1100\n",
      "b -> 1101\n",
      "e -> 111\n"
     ]
    }
   ],
   "source": [
    "\n",
    "import heapq\n",
    "\n",
    "class node:\n",
    "\tdef __init__(self, freq, symbol, left=None, right=None):\n",
    "\t\t\n",
    "\t\tself.freq = freq\n",
    "\n",
    "\t\tself.symbol = symbol\n",
    "\n",
    "\t\tself.left = left\n",
    "\n",
    "\t\tself.right = right\n",
    "\n",
    "\t\tself.huff = ''\n",
    "\t\t\n",
    "\tdef __lt__(self, nxt):\n",
    "\t\treturn self.freq < nxt.freq\n",
    "\t\t\n",
    "\n",
    "\n",
    "def printNodes(node, val=''):\n",
    "\t\n",
    "\n",
    "\tnewVal = val + str(node.huff)\n",
    "\n",
    "\tif(node.left):\n",
    "\t\tprintNodes(node.left, newVal)\n",
    "\tif(node.right):\n",
    "\t\tprintNodes(node.right, newVal)\n",
    "\n",
    "\tif(not node.left and not node.right):\n",
    "\t\tprint(f\"{node.symbol} -> {newVal}\")\n",
    "\n",
    "chars = ['a', 'b', 'c', 'd', 'e', 'f']\n",
    "\n",
    "freq = [ 5, 9, 12, 13, 16, 45]\n",
    "\n",
    "nodes = []\n",
    "\n",
    "for x in range(len(chars)):\n",
    "\theapq.heappush(nodes, node(freq[x], chars[x]))\n",
    "\n",
    "while len(nodes) > 1:\n",
    "\n",
    "\tleft = heapq.heappop(nodes)\n",
    "\tright = heapq.heappop(nodes)\n",
    "\n",
    "\tleft.huff = 0\n",
    "\tright.huff = 1\n",
    "    \n",
    "\tnewNode = node(left.freq+right.freq, left.symbol+right.symbol, left, right)\n",
    "\n",
    "\theapq.heappush(nodes, newNode)\n",
    "\n",
    "printNodes(nodes[0])\n"
   ]
  },
  {
   "cell_type": "code",
   "execution_count": null,
   "id": "66b6adbc",
   "metadata": {},
   "outputs": [],
   "source": []
  }
 ],
 "metadata": {
  "kernelspec": {
   "display_name": "Python 3",
   "language": "python",
   "name": "python3"
  },
  "language_info": {
   "codemirror_mode": {
    "name": "ipython",
    "version": 3
   },
   "file_extension": ".py",
   "mimetype": "text/x-python",
   "name": "python",
   "nbconvert_exporter": "python",
   "pygments_lexer": "ipython3",
   "version": "3.8.8"
  }
 },
 "nbformat": 4,
 "nbformat_minor": 5
}
