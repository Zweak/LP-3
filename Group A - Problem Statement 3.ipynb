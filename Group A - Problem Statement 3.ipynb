{
 "cells": [
  {
   "cell_type": "code",
   "execution_count": 1,
   "id": "81e6b986",
   "metadata": {},
   "outputs": [
    {
     "name": "stdout",
     "output_type": "stream",
     "text": [
      "220\n"
     ]
    }
   ],
   "source": [
    "def knapSack(W, wt, val, n):\n",
    "\n",
    "\tif n == 0 or W == 0:\n",
    "\t\treturn 0\n",
    "\n",
    "\tif (wt[n-1] > W):\n",
    "\t\treturn knapSack(W, wt, val, n-1)\n",
    "\n",
    "\telse:\n",
    "\t\treturn max(\n",
    "\t\t\tval[n-1] + knapSack(\n",
    "\t\t\t\tW-wt[n-1], wt, val, n-1),\n",
    "\t\t\tknapSack(W, wt, val, n-1))\n",
    "\n",
    "val = [60, 100, 120]\n",
    "wt = [10, 20, 30]\n",
    "W = 50\n",
    "n = len(val)\n",
    "print(knapSack(W, wt, val, n))\n",
    "\n"
   ]
  },
  {
   "cell_type": "code",
   "execution_count": null,
   "id": "ead46ff0",
   "metadata": {},
   "outputs": [],
   "source": []
  }
 ],
 "metadata": {
  "kernelspec": {
   "display_name": "Python 3",
   "language": "python",
   "name": "python3"
  },
  "language_info": {
   "codemirror_mode": {
    "name": "ipython",
    "version": 3
   },
   "file_extension": ".py",
   "mimetype": "text/x-python",
   "name": "python",
   "nbconvert_exporter": "python",
   "pygments_lexer": "ipython3",
   "version": "3.8.8"
  }
 },
 "nbformat": 4,
 "nbformat_minor": 5
}
