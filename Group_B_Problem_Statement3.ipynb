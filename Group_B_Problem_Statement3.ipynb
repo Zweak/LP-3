{
  "cells": [
    {
      "cell_type": "markdown",
      "id": "817ac8fb",
      "metadata": {
        "id": "817ac8fb"
      },
      "source": [
        "Implement K-Nearest Neighbors algorithm on diabetes.csv dataset. Compute confusion\n",
        "matrix, accuracy, error rate, precision and recall on the given dataset. Dataset link:\n",
        "https://www.kaggle.com/datasets/abdallamahgoub/diabetes"
      ]
    },
    {
      "cell_type": "code",
      "execution_count": null,
      "id": "2ebad509",
      "metadata": {
        "id": "2ebad509"
      },
      "outputs": [],
      "source": [
        "import pandas as pd\n",
        "import numpy as np\n",
        "import seaborn as sns\n",
        "import matplotlib.pyplot as plt\n",
        "%matplotlib inline\n",
        "import warnings\n",
        "warnings.filterwarnings('ignore')\n",
        "from sklearn.model_selection import train_test_split\n",
        "from sklearn.svm import SVC\n",
        "from sklearn import metrics"
      ]
    },
    {
      "cell_type": "code",
      "execution_count": null,
      "id": "c1f65bdb",
      "metadata": {
        "id": "c1f65bdb"
      },
      "outputs": [],
      "source": [
        "df=pd.read_csv('E:\\\\dataset\\\\diabetes.csv')"
      ]
    },
    {
      "cell_type": "code",
      "execution_count": null,
      "id": "fdd2e53a",
      "metadata": {
        "id": "fdd2e53a",
        "outputId": "3f5fc1b7-3e9b-4730-d182-03960ee9d853"
      },
      "outputs": [
        {
          "data": {
            "text/plain": [
              "Index(['Pregnancies', 'Glucose', 'BloodPressure', 'SkinThickness', 'Insulin',\n",
              "       'BMI', 'Pedigree', 'Age', 'Outcome'],\n",
              "      dtype='object')"
            ]
          },
          "execution_count": 4,
          "metadata": {},
          "output_type": "execute_result"
        }
      ],
      "source": [
        "df.columns"
      ]
    },
    {
      "cell_type": "code",
      "execution_count": null,
      "id": "2b75c1b7",
      "metadata": {
        "id": "2b75c1b7",
        "outputId": "4fbcee49-c710-499e-f3a2-a8a7d2fabc4f"
      },
      "outputs": [
        {
          "data": {
            "text/plain": [
              "Pregnancies      0\n",
              "Glucose          0\n",
              "BloodPressure    0\n",
              "SkinThickness    0\n",
              "Insulin          0\n",
              "BMI              0\n",
              "Pedigree         0\n",
              "Age              0\n",
              "Outcome          0\n",
              "dtype: int64"
            ]
          },
          "execution_count": 5,
          "metadata": {},
          "output_type": "execute_result"
        }
      ],
      "source": [
        "df.isnull().sum()"
      ]
    },
    {
      "cell_type": "markdown",
      "id": "45e414f7",
      "metadata": {
        "id": "45e414f7"
      },
      "source": [
        "Outcome is the label/target, other columns are features"
      ]
    },
    {
      "cell_type": "code",
      "execution_count": null,
      "id": "fbd96d76",
      "metadata": {
        "id": "fbd96d76"
      },
      "outputs": [],
      "source": [
        "X = df.drop('Outcome',axis = 1)\n",
        "y = df['Outcome']"
      ]
    },
    {
      "cell_type": "code",
      "execution_count": null,
      "id": "3c69bba8",
      "metadata": {
        "id": "3c69bba8"
      },
      "outputs": [],
      "source": [
        "from sklearn.preprocessing import scale\n",
        "X = scale(X)\n",
        "# split into train and test\n",
        "X_train, X_test, y_train, y_test = train_test_split(X, y, test_size = 0.3, random_state = 42)"
      ]
    },
    {
      "cell_type": "code",
      "execution_count": null,
      "id": "243e2322",
      "metadata": {
        "id": "243e2322"
      },
      "outputs": [],
      "source": [
        "from sklearn.neighbors import KNeighborsClassifier\n",
        "knn = KNeighborsClassifier(n_neighbors=7)\n",
        " \n",
        "knn.fit(X_train, y_train)\n",
        "y_pred = knn.predict(X_test)"
      ]
    },
    {
      "cell_type": "code",
      "execution_count": null,
      "id": "251266d9",
      "metadata": {
        "id": "251266d9",
        "outputId": "b562a888-c021-4062-f3a8-6303c0550a10"
      },
      "outputs": [
        {
          "data": {
            "text/plain": [
              "array([0, 0, 0, 0, 1, 0, 0, 1, 1, 0, 0, 1, 0, 0, 0, 0, 0, 0, 1, 0, 1, 0,\n",
              "       0, 0, 0, 1, 0, 0, 0, 0, 1, 1, 1, 1, 1, 1, 1, 0, 0, 1, 0, 1, 1, 0,\n",
              "       0, 0, 1, 0, 0, 1, 0, 0, 1, 0, 0, 0, 0, 0, 0, 1, 0, 0, 1, 0, 0, 0,\n",
              "       0, 1, 0, 1, 1, 0, 0, 0, 0, 0, 1, 0, 0, 0, 1, 0, 0, 0, 0, 1, 1, 0,\n",
              "       0, 0, 0, 0, 0, 0, 0, 1, 1, 0, 0, 0, 1, 0, 0, 0, 1, 0, 0, 1, 0, 1,\n",
              "       0, 0, 0, 1, 0, 0, 1, 0, 0, 0, 0, 0, 0, 0, 0, 0, 0, 1, 1, 1, 1, 1,\n",
              "       0, 0, 0, 0, 0, 1, 0, 0, 0, 0, 0, 1, 0, 0, 0, 0, 0, 1, 0, 0, 0, 1,\n",
              "       0, 1, 0, 0, 0, 0, 1, 1, 0, 0, 0, 1, 0, 1, 1, 1, 1, 0, 1, 0, 1, 0,\n",
              "       0, 1, 0, 0, 0, 0, 1, 1, 0, 0, 0, 0, 1, 1, 0, 0, 1, 0, 0, 0, 0, 0,\n",
              "       0, 1, 0, 0, 0, 0, 1, 0, 0, 0, 1, 1, 0, 0, 0, 0, 1, 0, 0, 1, 0, 1,\n",
              "       1, 0, 0, 0, 0, 1, 0, 0, 0, 0, 0], dtype=int64)"
            ]
          },
          "execution_count": 10,
          "metadata": {},
          "output_type": "execute_result"
        }
      ],
      "source": [
        "y_pred"
      ]
    },
    {
      "cell_type": "markdown",
      "id": "e9d2a01f",
      "metadata": {
        "id": "e9d2a01f"
      },
      "source": [
        "Compute confusion matrix, accuracy, error rate, precision and recall on the given dataset."
      ]
    },
    {
      "cell_type": "code",
      "execution_count": null,
      "id": "6acc31ca",
      "metadata": {
        "id": "6acc31ca",
        "outputId": "62ce7872-f53f-43b8-c3f9-fb94492b5743"
      },
      "outputs": [
        {
          "name": "stdout",
          "output_type": "stream",
          "text": [
            "Confusion matrix: \n",
            "[[123  28]\n",
            " [ 37  43]]\n"
          ]
        }
      ],
      "source": [
        "print(\"Confusion matrix: \")\n",
        "cs = metrics.confusion_matrix(y_test,y_pred)\n",
        "print(cs)"
      ]
    },
    {
      "cell_type": "code",
      "execution_count": null,
      "id": "124818f7",
      "metadata": {
        "id": "124818f7",
        "outputId": "a3141494-fece-48fa-ec0e-bf516e8b4029"
      },
      "outputs": [
        {
          "name": "stdout",
          "output_type": "stream",
          "text": [
            "Acccuracy  0.7186147186147186\n"
          ]
        }
      ],
      "source": [
        "print(\"Acccuracy \",metrics.accuracy_score(y_test,y_pred))"
      ]
    },
    {
      "cell_type": "markdown",
      "id": "b513c09e",
      "metadata": {
        "id": "b513c09e"
      },
      "source": [
        "Classification error rate: proportion of instances misclassified over the whole set of instances. Error rate is calculated as the total number of two incorrect predictions (FN + FP) divided by the total number of a dataset (examples in the dataset.Also error_rate = 1- accuracy"
      ]
    },
    {
      "cell_type": "code",
      "execution_count": null,
      "id": "b7e9114a",
      "metadata": {
        "id": "b7e9114a",
        "outputId": "119b6477-8eb7-4676-f9a5-6ff12a3aa065"
      },
      "outputs": [
        {
          "name": "stdout",
          "output_type": "stream",
          "text": [
            "65\n",
            "231\n",
            "Error rate 0.2813852813852814\n",
            "Error rate  0.2813852813852814\n"
          ]
        }
      ],
      "source": [
        "total_misclassified = cs[0,1] + cs[1,0]\n",
        "print(total_misclassified)\n",
        "total_examples = cs[0,0]+cs[0,1]+cs[1,0]+cs[1,1]\n",
        "print(total_examples)\n",
        "print(\"Error rate\",total_misclassified/total_examples)\n",
        "print(\"Error rate \",1-metrics.accuracy_score(y_test,y_pred))"
      ]
    },
    {
      "cell_type": "code",
      "execution_count": null,
      "id": "3dead5dc",
      "metadata": {
        "id": "3dead5dc",
        "outputId": "72d95ade-2a3a-475a-a744-f1800348c3a9"
      },
      "outputs": [
        {
          "name": "stdout",
          "output_type": "stream",
          "text": [
            "Precision score 0.6056338028169014\n"
          ]
        }
      ],
      "source": [
        "print(\"Precision score\",metrics.precision_score(y_test,y_pred))"
      ]
    },
    {
      "cell_type": "code",
      "execution_count": null,
      "id": "bf3c0000",
      "metadata": {
        "id": "bf3c0000",
        "outputId": "8a973f1c-96f1-4fdf-c074-e36138e89d6a"
      },
      "outputs": [
        {
          "name": "stdout",
          "output_type": "stream",
          "text": [
            "Recall score  0.5375\n"
          ]
        }
      ],
      "source": [
        "print(\"Recall score \",metrics.recall_score(y_test,y_pred))"
      ]
    },
    {
      "cell_type": "code",
      "execution_count": null,
      "id": "d5bbca91",
      "metadata": {
        "id": "d5bbca91",
        "outputId": "7a4bfc01-2953-4644-e29b-4249f2568ab5"
      },
      "outputs": [
        {
          "name": "stdout",
          "output_type": "stream",
          "text": [
            "Classification report                precision    recall  f1-score   support\n",
            "\n",
            "           0       0.77      0.81      0.79       151\n",
            "           1       0.61      0.54      0.57        80\n",
            "\n",
            "    accuracy                           0.72       231\n",
            "   macro avg       0.69      0.68      0.68       231\n",
            "weighted avg       0.71      0.72      0.71       231\n",
            "\n"
          ]
        }
      ],
      "source": [
        "print(\"Classification report \",metrics.classification_report(y_test,y_pred))"
      ]
    },
    {
      "cell_type": "code",
      "execution_count": null,
      "id": "f786a9d0",
      "metadata": {
        "id": "f786a9d0"
      },
      "outputs": [],
      "source": []
    }
  ],
  "metadata": {
    "kernelspec": {
      "display_name": "Python 3 (ipykernel)",
      "language": "python",
      "name": "python3"
    },
    "language_info": {
      "codemirror_mode": {
        "name": "ipython",
        "version": 3
      },
      "file_extension": ".py",
      "mimetype": "text/x-python",
      "name": "python",
      "nbconvert_exporter": "python",
      "pygments_lexer": "ipython3",
      "version": "3.9.7"
    },
    "colab": {
      "provenance": []
    }
  },
  "nbformat": 4,
  "nbformat_minor": 5
}