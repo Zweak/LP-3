{
  "cells": [
    {
      "cell_type": "markdown",
      "id": "82198c05",
      "metadata": {
        "id": "82198c05"
      },
      "source": [
        "Classify the email using the binary classification method. Email Spam detection has\n",
        "two states: a) Normal State – Not Spam, b) Abnormal State – Spam. Use K-Nearest\n",
        "Neighbors for classification. Analyze their performance.\n",
        "Dataset link: The emails.csv dataset on the Kaggle\n",
        "https://www.kaggle.com/datasets/balaka18/email-spam-classification-dataset-csv"
      ]
    },
    {
      "cell_type": "code",
      "execution_count": null,
      "id": "df4e87c4",
      "metadata": {
        "id": "df4e87c4"
      },
      "outputs": [],
      "source": [
        "import pandas as pd\n",
        "import numpy as np\n",
        "import seaborn as sns\n",
        "import matplotlib.pyplot as plt\n",
        "%matplotlib inline\n",
        "import warnings\n",
        "warnings.filterwarnings('ignore')\n",
        "from sklearn.model_selection import train_test_split\n",
        "from sklearn.svm import SVC\n",
        "from sklearn import metrics"
      ]
    },
    {
      "cell_type": "code",
      "execution_count": null,
      "id": "13b2d51a",
      "metadata": {
        "id": "13b2d51a"
      },
      "outputs": [],
      "source": [
        "df=pd.read_csv('E:\\\\dataset\\\\emails.csv')"
      ]
    },
    {
      "cell_type": "code",
      "execution_count": null,
      "id": "c47d420d",
      "metadata": {
        "id": "c47d420d",
        "outputId": "b809fd83-68a5-4d56-ea6c-cabe007fbb9c"
      },
      "outputs": [
        {
          "data": {
            "text/plain": [
              "Index(['Email No.', 'the', 'to', 'ect', 'and', 'for', 'of', 'a', 'you', 'hou',\n",
              "       ...\n",
              "       'connevey', 'jay', 'valued', 'lay', 'infrastructure', 'military',\n",
              "       'allowing', 'ff', 'dry', 'Prediction'],\n",
              "      dtype='object', length=3002)"
            ]
          },
          "execution_count": 3,
          "metadata": {},
          "output_type": "execute_result"
        }
      ],
      "source": [
        "df.columns"
      ]
    },
    {
      "cell_type": "code",
      "execution_count": null,
      "id": "ddbac07f",
      "metadata": {
        "id": "ddbac07f",
        "outputId": "bfc8058c-012c-49e5-e970-ea6d4f88a7d1"
      },
      "outputs": [
        {
          "data": {
            "text/plain": [
              "Email No.     0\n",
              "the           0\n",
              "to            0\n",
              "ect           0\n",
              "and           0\n",
              "             ..\n",
              "military      0\n",
              "allowing      0\n",
              "ff            0\n",
              "dry           0\n",
              "Prediction    0\n",
              "Length: 3002, dtype: int64"
            ]
          },
          "execution_count": 4,
          "metadata": {},
          "output_type": "execute_result"
        }
      ],
      "source": [
        "df.isnull().sum()"
      ]
    },
    {
      "cell_type": "code",
      "execution_count": null,
      "id": "c6d6d8dc",
      "metadata": {
        "id": "c6d6d8dc"
      },
      "outputs": [],
      "source": [
        "df.dropna(inplace = True)"
      ]
    },
    {
      "cell_type": "code",
      "execution_count": null,
      "id": "a8072d32",
      "metadata": {
        "id": "a8072d32"
      },
      "outputs": [],
      "source": [
        "df.drop(['Email No.'],axis=1,inplace=True)\n",
        "X = df.drop(['Prediction'],axis = 1)\n",
        "y = df['Prediction']"
      ]
    },
    {
      "cell_type": "code",
      "execution_count": null,
      "id": "fab50003",
      "metadata": {
        "id": "fab50003"
      },
      "outputs": [],
      "source": [
        "from sklearn.preprocessing import scale\n",
        "X = scale(X)\n",
        "# split into train and test\n",
        "X_train, X_test, y_train, y_test = train_test_split(X, y, test_size = 0.3, random_state = 42)"
      ]
    },
    {
      "cell_type": "markdown",
      "id": "fdc6f758",
      "metadata": {
        "id": "fdc6f758"
      },
      "source": [
        "# KNN classifier"
      ]
    },
    {
      "cell_type": "code",
      "execution_count": null,
      "id": "57dd6193",
      "metadata": {
        "id": "57dd6193"
      },
      "outputs": [],
      "source": [
        "from sklearn.neighbors import KNeighborsClassifier\n",
        "knn = KNeighborsClassifier(n_neighbors=7)"
      ]
    },
    {
      "cell_type": "code",
      "execution_count": null,
      "id": "bfd52edd",
      "metadata": {
        "id": "bfd52edd"
      },
      "outputs": [],
      "source": [
        "knn.fit(X_train, y_train)\n",
        "y_pred = knn.predict(X_test)"
      ]
    },
    {
      "cell_type": "code",
      "execution_count": null,
      "id": "4be66f91",
      "metadata": {
        "id": "4be66f91",
        "outputId": "6cc0b685-f292-4cfb-d54b-207f825d06fd"
      },
      "outputs": [
        {
          "name": "stdout",
          "output_type": "stream",
          "text": [
            "Prediction [0 0 1 ... 1 1 1]\n"
          ]
        }
      ],
      "source": [
        "print(\"Prediction\",y_pred)"
      ]
    },
    {
      "cell_type": "code",
      "execution_count": null,
      "id": "6727bf95",
      "metadata": {
        "id": "6727bf95",
        "outputId": "f3affb29-bf04-4d94-ea79-c27f3826ea93"
      },
      "outputs": [
        {
          "name": "stdout",
          "output_type": "stream",
          "text": [
            "KNN accuracy =  0.8009020618556701\n"
          ]
        }
      ],
      "source": [
        "print(\"KNN accuracy = \",metrics.accuracy_score(y_test,y_pred))"
      ]
    },
    {
      "cell_type": "code",
      "execution_count": null,
      "id": "418f3bd0",
      "metadata": {
        "id": "418f3bd0",
        "outputId": "100ebce2-eb15-4dd7-eeb2-7de5b00ee141"
      },
      "outputs": [
        {
          "name": "stdout",
          "output_type": "stream",
          "text": [
            "Confusion matrix [[804 293]\n",
            " [ 16 439]]\n"
          ]
        }
      ],
      "source": [
        "print(\"Confusion matrix\",metrics.confusion_matrix(y_test,y_pred))"
      ]
    },
    {
      "cell_type": "code",
      "execution_count": null,
      "id": "d7ac9fb6",
      "metadata": {
        "id": "d7ac9fb6"
      },
      "outputs": [],
      "source": []
    }
  ],
  "metadata": {
    "kernelspec": {
      "display_name": "Python 3 (ipykernel)",
      "language": "python",
      "name": "python3"
    },
    "language_info": {
      "codemirror_mode": {
        "name": "ipython",
        "version": 3
      },
      "file_extension": ".py",
      "mimetype": "text/x-python",
      "name": "python",
      "nbconvert_exporter": "python",
      "pygments_lexer": "ipython3",
      "version": "3.9.7"
    },
    "colab": {
      "provenance": []
    }
  },
  "nbformat": 4,
  "nbformat_minor": 5
}